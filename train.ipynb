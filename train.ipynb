{
 "cells": [
  {
   "cell_type": "code",
   "execution_count": null,
   "metadata": {
    "colab": {},
    "colab_type": "code",
    "id": "3e1_lw4mAV_y"
   },
   "outputs": [],
   "source": [
    "import torch\n",
    "import torch.nn as nn\n",
    "import torch.nn.functional as F\n",
    "import torch.optim as optim\n",
    "from torchvision import datasets, transforms\n",
    "from PIL import Image\n",
    "import numpy as np"
   ]
  },
  {
   "cell_type": "code",
   "execution_count": null,
   "metadata": {
    "colab": {},
    "colab_type": "code",
    "id": "l7JNtzmBBgfb"
   },
   "outputs": [],
   "source": [
    "class Net(nn.Module):\n",
    "    def __init__(self):\n",
    "        super(Net, self).__init__()\n",
    "        self.conv1 = nn.Conv2d(1, 32, 3, 1)\n",
    "        self.conv2 = nn.Conv2d(32, 64, 3, 1)\n",
    "        self.fc1 = nn.Linear(9216, 128)\n",
    "\n",
    "    def forward(self, x):\n",
    "        x = self.conv1(x)\n",
    "        x = F.relu(x)\n",
    "        x = self.conv2(x)\n",
    "        x = F.max_pool2d(x, 2)\n",
    "        x = torch.flatten(x, 1)\n",
    "        x = self.fc1(x)\n",
    "        x = F.normalize(x)\n",
    "        return x"
   ]
  },
  {
   "cell_type": "code",
   "execution_count": null,
   "metadata": {
    "colab": {},
    "colab_type": "code",
    "id": "HebrzZ7NBY7u"
   },
   "outputs": [],
   "source": [
    "use_cuda = True\n",
    "device = torch.device(\"cuda\" if use_cuda else \"cpu\")\n",
    "kwargs = {'num_workers': 1, 'pin_memory': True} if use_cuda else {}"
   ]
  },
  {
   "cell_type": "code",
   "execution_count": null,
   "metadata": {
    "colab": {},
    "colab_type": "code",
    "id": "iMa98EHYQALu"
   },
   "outputs": [],
   "source": [
    "class DuplicatedCompose(object):\n",
    "    def __init__(self, transforms):\n",
    "        self.transforms = transforms\n",
    "\n",
    "    def __call__(self, img):\n",
    "        img1 = img.copy()\n",
    "        img2 = img.copy()\n",
    "        for t in self.transforms:\n",
    "            img1 = t(img1)\n",
    "            img2 = t(img2)\n",
    "        return img1, img2"
   ]
  },
  {
   "cell_type": "code",
   "execution_count": null,
   "metadata": {
    "colab": {},
    "colab_type": "code",
    "id": "TP1C5QYbAntp"
   },
   "outputs": [],
   "source": [
    "transform = DuplicatedCompose([\n",
    "    transforms.RandomRotation(20),\n",
    "    transforms.RandomResizedCrop(28, scale=(0.9, 1.1), ratio=(0.9, 1.1), interpolation=2),\n",
    "    transforms.ToTensor(),\n",
    "    transforms.Normalize((0.1307,), (0.3081,))])"
   ]
  },
  {
   "cell_type": "code",
   "execution_count": null,
   "metadata": {
    "colab": {},
    "colab_type": "code",
    "id": "GW3Bs8BTBA-f"
   },
   "outputs": [],
   "source": [
    "train_mnist = datasets.MNIST('/tmp', train=True, download=True, transform=transform)\n",
    "test_mnist = datasets.MNIST('/tmp', train=False, download=True, transform=transform)"
   ]
  },
  {
   "cell_type": "code",
   "execution_count": null,
   "metadata": {
    "colab": {},
    "colab_type": "code",
    "id": "O6D_c2P5BH8V"
   },
   "outputs": [],
   "source": [
    "train_loader = torch.utils.data.DataLoader(train_mnist, batch_size=128, shuffle=True, **kwargs)\n",
    "test_loader = torch.utils.data.DataLoader(test_mnist, batch_size=128, shuffle=True, **kwargs)"
   ]
  },
  {
   "cell_type": "code",
   "execution_count": null,
   "metadata": {
    "colab": {},
    "colab_type": "code",
    "id": "GAZ-0jX5Bq0e"
   },
   "outputs": [],
   "source": [
    "model_q = Net().to(device)\n",
    "model_k = Net().to(device)\n",
    "optimizer = optim.SGD(model_q.parameters(), lr=0.01, weight_decay=0.0001)"
   ]
  },
  {
   "cell_type": "code",
   "execution_count": null,
   "metadata": {
    "colab": {},
    "colab_type": "code",
    "id": "QCanNW5iLXG7"
   },
   "outputs": [],
   "source": [
    "def momentum_update(model_q, model_k, beta = 0.999):\n",
    "    param_k = model_k.state_dict()\n",
    "    param_q = model_q.named_parameters()\n",
    "    for n, q in param_q:\n",
    "        if n in param_k:\n",
    "            param_k[n].data.copy_(beta*param_k[n].data + (1-beta)*q.data)     \n",
    "    model_k.load_state_dict(param_k)\n",
    "\n",
    "def queue_data(data, k):\n",
    "    return torch.cat([data, k], dim=0)\n",
    "\n",
    "def dequeue_data(data, K=4096):\n",
    "    if len(data) > K:\n",
    "        return data[-K:]\n",
    "    else:\n",
    "        return data"
   ]
  },
  {
   "cell_type": "code",
   "execution_count": null,
   "metadata": {
    "colab": {},
    "colab_type": "code",
    "id": "jm6r_LbakiGz"
   },
   "outputs": [],
   "source": [
    "queue = torch.zeros((0, 128), dtype=torch.float) \n",
    "queue = queue.to(device)\n",
    "\n",
    "for batch_idx, (data, target) in enumerate(train_loader):\n",
    "    x_k = data[1]\n",
    "    x_k = x_k.to(device)\n",
    "    k = model_k(x_k)\n",
    "    k = k.detach()\n",
    "    queue = queue_data(queue, k)\n",
    "    queue = dequeue_data(queue, K = 10)\n",
    "    break"
   ]
  },
  {
   "cell_type": "code",
   "execution_count": null,
   "metadata": {
    "colab": {},
    "colab_type": "code",
    "id": "qPGrs5wfNDWL"
   },
   "outputs": [],
   "source": [
    "def train(model_q, modek_k, device, train_loader, queue, optimizer, epoch, temp=0.07):\n",
    "    model_q.train()\n",
    "    total_loss = 0\n",
    "\n",
    "    for batch_idx, (data, target) in enumerate(train_loader):\n",
    "        x_q = data[0]\n",
    "        x_k = data[1]\n",
    "\n",
    "        x_q, x_k = x_q.to(device), x_k.to(device)\n",
    "        q = model_q(x_q)\n",
    "        k = model_k(x_k)\n",
    "        k = k.detach()\n",
    "\n",
    "        N = data[0].shape[0]\n",
    "        K = queue.shape[0]\n",
    "        l_pos = torch.bmm(q.view(N,1,-1), k.view(N,-1,1))\n",
    "        l_neg = torch.mm(q.view(N,-1), queue.T.view(-1,K))\n",
    "\n",
    "\n",
    "        logits = torch.cat([l_pos.view(N, 1), l_neg], dim=1)\n",
    "        \n",
    "        labels = torch.zeros(N, dtype=torch.long) \n",
    "        labels = labels.to(device)\n",
    "\n",
    "        cross_entropy_loss = nn.CrossEntropyLoss()\n",
    "        loss = cross_entropy_loss(logits/temp, labels)\n",
    "\n",
    "        optimizer.zero_grad()\n",
    "        loss.backward()\n",
    "        optimizer.step()\n",
    "\n",
    "        total_loss += loss.item()\n",
    "\n",
    "        momentum_update(model_q, model_k)\n",
    "\n",
    "        queue = queue_data(queue, k)\n",
    "        queue = dequeue_data(queue)\n",
    "            \n",
    "    total_loss /= len(train_loader.dataset)\n",
    "\n",
    "    print('Train Epoch: {} \\tLoss: {:.6f}'.format(epoch, total_loss))"
   ]
  },
  {
   "cell_type": "code",
   "execution_count": null,
   "metadata": {
    "colab": {
     "base_uri": "https://localhost:8080/",
     "height": 867
    },
    "colab_type": "code",
    "id": "38ru8uMtpgv2",
    "outputId": "45eb0133-3363-42e0-9e41-db6094ee3e62"
   },
   "outputs": [],
   "source": [
    "epochs = 50\n",
    "for epoch in range(1, epochs + 1):\n",
    "    train(model_q, model_k, device, train_loader, queue, optimizer, epoch)"
   ]
  },
  {
   "cell_type": "code",
   "execution_count": null,
   "metadata": {
    "colab": {},
    "colab_type": "code",
    "id": "BaWT9LXY7Jxh"
   },
   "outputs": [],
   "source": [
    "torch.save(model_q.state_dict(), 'model.pth')"
   ]
  },
  {
   "cell_type": "code",
   "execution_count": null,
   "metadata": {
    "colab": {},
    "colab_type": "code",
    "id": "IqLL4aRGESxJ"
   },
   "outputs": [],
   "source": []
  }
 ],
 "metadata": {
  "accelerator": "GPU",
  "colab": {
   "collapsed_sections": [],
   "name": "MoCo.ipynb",
   "provenance": []
  },
  "kernelspec": {
   "display_name": "Python 3",
   "language": "python",
   "name": "python3"
  },
  "language_info": {
   "codemirror_mode": {
    "name": "ipython",
    "version": 3
   },
   "file_extension": ".py",
   "mimetype": "text/x-python",
   "name": "python",
   "nbconvert_exporter": "python",
   "pygments_lexer": "ipython3",
   "version": "3.7.5"
  }
 },
 "nbformat": 4,
 "nbformat_minor": 1
}
